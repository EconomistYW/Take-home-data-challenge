{
 "cells": [
  {
   "cell_type": "code",
   "execution_count": 6,
   "metadata": {},
   "outputs": [],
   "source": [
    "import numpy as np\n",
    "import matplotlib.pyplot as plt"
   ]
  },
  {
   "cell_type": "code",
   "execution_count": 37,
   "metadata": {},
   "outputs": [],
   "source": [
    "a = np.random.binomial(10000,0.1,10000)"
   ]
  },
  {
   "cell_type": "code",
   "execution_count": 38,
   "metadata": {},
   "outputs": [
    {
     "data": {
      "text/plain": [
       "(array([  2.,   1.,   0.,   1.,   5.,   5.,  13.,  15.,  28.,  30.,  62.,\n",
       "         63., 108.,  90., 198., 164., 275., 272., 395., 385., 525., 450.,\n",
       "        555., 517., 655., 539., 689., 512., 560., 454., 478., 371., 370.,\n",
       "        241., 276., 150., 158., 100.,  84.,  60.,  55.,  27.,  24.,  12.,\n",
       "         10.,   4.,   8.,   2.,   0.,   2.]),\n",
       " array([ 887. ,  891.5,  896. ,  900.5,  905. ,  909.5,  914. ,  918.5,\n",
       "         923. ,  927.5,  932. ,  936.5,  941. ,  945.5,  950. ,  954.5,\n",
       "         959. ,  963.5,  968. ,  972.5,  977. ,  981.5,  986. ,  990.5,\n",
       "         995. ,  999.5, 1004. , 1008.5, 1013. , 1017.5, 1022. , 1026.5,\n",
       "        1031. , 1035.5, 1040. , 1044.5, 1049. , 1053.5, 1058. , 1062.5,\n",
       "        1067. , 1071.5, 1076. , 1080.5, 1085. , 1089.5, 1094. , 1098.5,\n",
       "        1103. , 1107.5, 1112. ]),\n",
       " <a list of 50 Patch objects>)"
      ]
     },
     "execution_count": 38,
     "metadata": {},
     "output_type": "execute_result"
    },
    {
     "data": {
      "image/png": "[encoded data removed]",
      "text/plain": [
       "<Figure size 432x288 with 1 Axes>"
      ]
     },
     "metadata": {
      "needs_background": "light"
     },
     "output_type": "display_data"
    }
   ],
   "source": [
    "plt.hist(a,bins=50)"
   ]
  },
  {
   "cell_type": "code",
   "execution_count": 19,
   "metadata": {},
   "outputs": [
    {
     "data": {
      "text/plain": [
       "array([32, 34, 31, 32, 31, 28, 18, 20, 25, 21, 30, 30, 27, 30, 37, 31, 31,\n",
       "       24, 26, 27, 27, 31, 28, 33, 28, 30, 35, 29, 38, 29, 18, 33, 25, 29,\n",
       "       38, 28, 29, 34, 34, 37, 20, 31, 26, 30, 24, 31, 40, 33, 34, 29, 34,\n",
       "       32, 27, 27, 31, 34, 33, 29, 35, 23, 25, 29, 35, 32, 31, 28, 27, 31,\n",
       "       28, 24, 35, 29, 33, 29, 37, 29, 27, 25, 34, 36, 31, 33, 32, 36, 26,\n",
       "       41, 31, 31, 22, 40, 24, 30, 29, 33, 20, 30, 33, 34, 24, 34])"
      ]
     },
     "execution_count": 19,
     "metadata": {},
     "output_type": "execute_result"
    }
   ],
   "source": [
    "a"
   ]
  },
  {
   "cell_type": "code",
   "execution_count": null,
   "metadata": {},
   "outputs": [],
   "source": []
  }
 ],
 "metadata": {
  "kernelspec": {
   "display_name": "Python 3",
   "language": "python",
   "name": "python3"
  },
  "language_info": {
   "codemirror_mode": {
    "name": "ipython",
    "version": 3
   },
   "file_extension": ".py",
   "mimetype": "text/x-python",
   "name": "python",
   "nbconvert_exporter": "python",
   "pygments_lexer": "ipython3",
   "version": "3.7.4"
  }
 },
 "nbformat": 4,
 "nbformat_minor": 2
}
