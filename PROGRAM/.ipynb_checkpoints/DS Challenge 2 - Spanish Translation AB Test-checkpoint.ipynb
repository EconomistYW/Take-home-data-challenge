{
 "cells": [
  {
   "cell_type": "code",
   "execution_count": 76,
   "metadata": {},
   "outputs": [],
   "source": [
    "import os\n",
    "import re\n",
    "import zipfile\n",
    "import kaggle\n",
    "import numpy as np\n",
    "import pandas as pd\n",
    "import seaborn as sns\n",
    "import matplotlib.pyplot as plt\n",
    "import collections\n",
    "import pydotplus\n",
    "import graphviz\n",
    "%matplotlib inline\n",
    "from scipy import stats\n",
    "from sklearn.preprocessing import StandardScaler, OneHotEncoder, FunctionTransformer, KBinsDiscretizer, LabelEncoder\n",
    "from sklearn.compose import ColumnTransformer, TransformedTargetRegressor\n",
    "from sklearn.pipeline import Pipeline\n",
    "from sklearn.impute import SimpleImputer\n",
    "from sklearn.base import BaseEstimator, TransformerMixin\n",
    "from sklearn.model_selection import cross_val_score, GridSearchCV, train_test_split\n",
    "from sklearn.metrics import make_scorer, accuracy_score, classification_report,confusion_matrix, plot_confusion_matrix\n",
    "from sklearn.tree import DecisionTreeClassifier, export_graphviz\n",
    "from sklearn.ensemble import RandomForestClassifier, GradientBoostingClassifier, RandomForestClassifier\n",
    "from sklearn.inspection import plot_partial_dependence, partial_dependence\n",
    "import warnings\n",
    "warnings.simplefilter(action='ignore', category=FutureWarning)"
   ]
  },
  {
   "cell_type": "code",
   "execution_count": 4,
   "metadata": {},
   "outputs": [],
   "source": [
    "INPUT_LOCATION = r\"C:\\Users\\jwang\\Desktop\\20datasets\\INPUT\\2.SpanishABtest\"\n",
    "OUTPUT_LOCATION = r\"C:\\Users\\jwang\\Desktop\\20datasets\\OUTPUT\\2.SpanishABtest\"\n",
    "INPUT_FILE_LOCATION = os.path.join(INPUT_LOCATION, 'conversion_project.csv')"
   ]
  },
  {
   "cell_type": "markdown",
   "metadata": {},
   "source": [
    "# 1. Data Read-in and Exploration"
   ]
  },
  {
   "cell_type": "code",
   "execution_count": 5,
   "metadata": {},
   "outputs": [
    {
     "data": {
      "text/html": [
       "<div>\n",
       "<style scoped>\n",
       "    .dataframe tbody tr th:only-of-type {\n",
       "        vertical-align: middle;\n",
       "    }\n",
       "\n",
       "    .dataframe tbody tr th {\n",
       "        vertical-align: top;\n",
       "    }\n",
       "\n",
       "    .dataframe thead th {\n",
       "        text-align: right;\n",
       "    }\n",
       "</style>\n",
       "<table border=\"1\" class=\"dataframe\">\n",
       "  <thead>\n",
       "    <tr style=\"text-align: right;\">\n",
       "      <th></th>\n",
       "      <th>country</th>\n",
       "      <th>age</th>\n",
       "      <th>new_user</th>\n",
       "      <th>source</th>\n",
       "      <th>total_pages_visited</th>\n",
       "      <th>converted</th>\n",
       "      <th>agebin</th>\n",
       "    </tr>\n",
       "  </thead>\n",
       "  <tbody>\n",
       "    <tr>\n",
       "      <td>0</td>\n",
       "      <td>UK</td>\n",
       "      <td>25</td>\n",
       "      <td>1</td>\n",
       "      <td>Ads</td>\n",
       "      <td>1</td>\n",
       "      <td>0</td>\n",
       "      <td>(23.0, 25.0]</td>\n",
       "    </tr>\n",
       "    <tr>\n",
       "      <td>1</td>\n",
       "      <td>US</td>\n",
       "      <td>23</td>\n",
       "      <td>1</td>\n",
       "      <td>Seo</td>\n",
       "      <td>5</td>\n",
       "      <td>0</td>\n",
       "      <td>(20.0, 23.0]</td>\n",
       "    </tr>\n",
       "    <tr>\n",
       "      <td>2</td>\n",
       "      <td>US</td>\n",
       "      <td>28</td>\n",
       "      <td>1</td>\n",
       "      <td>Seo</td>\n",
       "      <td>4</td>\n",
       "      <td>0</td>\n",
       "      <td>(25.0, 28.0]</td>\n",
       "    </tr>\n",
       "    <tr>\n",
       "      <td>3</td>\n",
       "      <td>China</td>\n",
       "      <td>39</td>\n",
       "      <td>1</td>\n",
       "      <td>Seo</td>\n",
       "      <td>5</td>\n",
       "      <td>0</td>\n",
       "      <td>(38.0, 42.0]</td>\n",
       "    </tr>\n",
       "    <tr>\n",
       "      <td>4</td>\n",
       "      <td>US</td>\n",
       "      <td>30</td>\n",
       "      <td>1</td>\n",
       "      <td>Seo</td>\n",
       "      <td>6</td>\n",
       "      <td>0</td>\n",
       "      <td>(28.0, 30.0]</td>\n",
       "    </tr>\n",
       "  </tbody>\n",
       "</table>\n",
       "</div>"
      ],
      "text/plain": [
       "  country  age  new_user source  total_pages_visited  converted        agebin\n",
       "0      UK   25         1    Ads                    1          0  (23.0, 25.0]\n",
       "1      US   23         1    Seo                    5          0  (20.0, 23.0]\n",
       "2      US   28         1    Seo                    4          0  (25.0, 28.0]\n",
       "3   China   39         1    Seo                    5          0  (38.0, 42.0]\n",
       "4      US   30         1    Seo                    6          0  (28.0, 30.0]"
      ]
     },
     "execution_count": 5,
     "metadata": {},
     "output_type": "execute_result"
    }
   ],
   "source": [
    "df = pd.read_csv(INPUT_FILE_LOCATION)\n",
    "exploration_df = df.copy()\n",
    "exploration_df['agebin'] = pd.qcut(exploration_df['age'],10)\n",
    "exploration_df.head()"
   ]
  },
  {
   "cell_type": "code",
   "execution_count": 6,
   "metadata": {},
   "outputs": [
    {
     "data": {
      "text/html": [
       "<div>\n",
       "<style scoped>\n",
       "    .dataframe tbody tr th:only-of-type {\n",
       "        vertical-align: middle;\n",
       "    }\n",
       "\n",
       "    .dataframe tbody tr th {\n",
       "        vertical-align: top;\n",
       "    }\n",
       "\n",
       "    .dataframe thead th {\n",
       "        text-align: right;\n",
       "    }\n",
       "</style>\n",
       "<table border=\"1\" class=\"dataframe\">\n",
       "  <thead>\n",
       "    <tr style=\"text-align: right;\">\n",
       "      <th></th>\n",
       "      <th>age</th>\n",
       "      <th>new_user</th>\n",
       "      <th>total_pages_visited</th>\n",
       "      <th>converted</th>\n",
       "    </tr>\n",
       "  </thead>\n",
       "  <tbody>\n",
       "    <tr>\n",
       "      <td>count</td>\n",
       "      <td>316200.000000</td>\n",
       "      <td>316200.000000</td>\n",
       "      <td>316200.000000</td>\n",
       "      <td>316200.000000</td>\n",
       "    </tr>\n",
       "    <tr>\n",
       "      <td>mean</td>\n",
       "      <td>30.569858</td>\n",
       "      <td>0.685465</td>\n",
       "      <td>4.872966</td>\n",
       "      <td>0.032258</td>\n",
       "    </tr>\n",
       "    <tr>\n",
       "      <td>std</td>\n",
       "      <td>8.271802</td>\n",
       "      <td>0.464331</td>\n",
       "      <td>3.341104</td>\n",
       "      <td>0.176685</td>\n",
       "    </tr>\n",
       "    <tr>\n",
       "      <td>min</td>\n",
       "      <td>17.000000</td>\n",
       "      <td>0.000000</td>\n",
       "      <td>1.000000</td>\n",
       "      <td>0.000000</td>\n",
       "    </tr>\n",
       "    <tr>\n",
       "      <td>25%</td>\n",
       "      <td>24.000000</td>\n",
       "      <td>0.000000</td>\n",
       "      <td>2.000000</td>\n",
       "      <td>0.000000</td>\n",
       "    </tr>\n",
       "    <tr>\n",
       "      <td>50%</td>\n",
       "      <td>30.000000</td>\n",
       "      <td>1.000000</td>\n",
       "      <td>4.000000</td>\n",
       "      <td>0.000000</td>\n",
       "    </tr>\n",
       "    <tr>\n",
       "      <td>75%</td>\n",
       "      <td>36.000000</td>\n",
       "      <td>1.000000</td>\n",
       "      <td>7.000000</td>\n",
       "      <td>0.000000</td>\n",
       "    </tr>\n",
       "    <tr>\n",
       "      <td>max</td>\n",
       "      <td>123.000000</td>\n",
       "      <td>1.000000</td>\n",
       "      <td>29.000000</td>\n",
       "      <td>1.000000</td>\n",
       "    </tr>\n",
       "  </tbody>\n",
       "</table>\n",
       "</div>"
      ],
      "text/plain": [
       "                 age       new_user  total_pages_visited      converted\n",
       "count  316200.000000  316200.000000        316200.000000  316200.000000\n",
       "mean       30.569858       0.685465             4.872966       0.032258\n",
       "std         8.271802       0.464331             3.341104       0.176685\n",
       "min        17.000000       0.000000             1.000000       0.000000\n",
       "25%        24.000000       0.000000             2.000000       0.000000\n",
       "50%        30.000000       1.000000             4.000000       0.000000\n",
       "75%        36.000000       1.000000             7.000000       0.000000\n",
       "max       123.000000       1.000000            29.000000       1.000000"
      ]
     },
     "execution_count": 6,
     "metadata": {},
     "output_type": "execute_result"
    }
   ],
   "source": [
    "exploration_df.describe()"
   ]
  },
  {
   "cell_type": "code",
   "execution_count": 7,
   "metadata": {},
   "outputs": [
    {
     "name": "stdout",
     "output_type": "stream",
     "text": [
      "US         178092\n",
      "China       76602\n",
      "UK          48450\n",
      "Germany     13056\n",
      "Name: country, dtype: int64\n",
      "Seo       155040\n",
      "Ads        88740\n",
      "Direct     72420\n",
      "Name: source, dtype: int64\n"
     ]
    }
   ],
   "source": [
    "print(exploration_df['country'].value_counts())\n",
    "print(exploration_df['source'].value_counts())"
   ]
  },
  {
   "cell_type": "markdown",
   "metadata": {},
   "source": [
    "## Some observations:\n",
    "1. This may be a US website, but there are many Chinese customers. There should be more countries, but this dataset probably limits to the top 4.\n",
    "2. There are some observations with age greater than 100. Need more check.\n",
    "## Questions:\n",
    "1. Does each person defined as a single observation or each person per view?\n",
    "2. What is the conversion event?"
   ]
  },
  {
   "cell_type": "code",
   "execution_count": 8,
   "metadata": {},
   "outputs": [
    {
     "data": {
      "text/plain": [
       "90928     123\n",
       "295581    111\n",
       "265167     79\n",
       "192644     77\n",
       "154217     73\n",
       "         ... \n",
       "39340      17\n",
       "90844      17\n",
       "118149     17\n",
       "97994      17\n",
       "229166     17\n",
       "Name: age, Length: 316200, dtype: int64"
      ]
     },
     "execution_count": 8,
     "metadata": {},
     "output_type": "execute_result"
    }
   ],
   "source": [
    "exploration_df['age'].sort_values(ascending=False)\n",
    "# We would want to drop age > 100. \n",
    "# This may be an indicator for a problem in the data collection code, so I may also need to talk to the engineer\n",
    "# team about this problem. For example, they can add a data validation requiring age < 100."
   ]
  },
  {
   "cell_type": "code",
   "execution_count": 9,
   "metadata": {},
   "outputs": [
    {
     "data": {
      "image/png": "[encoded data removed]",
      "text/plain": [
       "<Figure size 1440x1080 with 4 Axes>"
      ]
     },
     "metadata": {},
     "output_type": "display_data"
    }
   ],
   "source": [
    "# Barplot with continuos variables into bins\n",
    "sns.set()\n",
    "fig,ax = plt.subplots(2,2, figsize=(20,15), sharey=False)\n",
    "discrete_variables = ['source','country','new_user','total_pages_visited']\n",
    "for column in range(2):\n",
    "    for row in range(2):\n",
    "        index = column + row*2\n",
    "        var = discrete_variables[index]\n",
    "        sns.barplot(x=var,  y= \"converted\", data=exploration_df, ax=ax[row,column]).set_title('Tabulation of Converted Ratio by '+var)"
   ]
  },
  {
   "cell_type": "code",
   "execution_count": 10,
   "metadata": {},
   "outputs": [
    {
     "data": {
      "text/plain": [
       "(array([0, 1, 2, 3, 4, 5, 6, 7, 8, 9]), <a list of 10 Text xticklabel objects>)"
      ]
     },
     "execution_count": 10,
     "metadata": {},
     "output_type": "execute_result"
    },
    {
     "data": {
      "image/png": "[encoded data removed]",
      "text/plain": [
       "<Figure size 432x288 with 1 Axes>"
      ]
     },
     "metadata": {},
     "output_type": "display_data"
    }
   ],
   "source": [
    "sns.barplot(x='agebin',  y= \"converted\", data=exploration_df).set_title('Tabulation of Converted Ratio by age')\n",
    "plt.xticks(rotation=30)"
   ]
  },
  {
   "cell_type": "markdown",
   "metadata": {},
   "source": [
    "# 2. Machine Learning Model"
   ]
  },
  {
   "cell_type": "markdown",
   "metadata": {},
   "source": [
    "## 2.1 Data Preprocessing"
   ]
  },
  {
   "cell_type": "code",
   "execution_count": 11,
   "metadata": {},
   "outputs": [
    {
     "name": "stdout",
     "output_type": "stream",
     "text": [
      "(252958, 6)\n",
      "(63240, 6)\n"
     ]
    }
   ],
   "source": [
    "df = df[df['age']<100]\n",
    "df_train, df_validation = train_test_split(df, test_size=0.2, random_state=42)\n",
    "print(df_train.shape)\n",
    "print(df_validation.shape)\n",
    "# Full set\n",
    "X_fullset = df.drop('converted',axis=1)\n",
    "y_fullset = df['converted']\n",
    "# Training set\n",
    "y_train = df_train[\"converted\"]\n",
    "X_train = df_train.drop('converted',axis=1)\n",
    "# Validation set\n",
    "y_validation = df_validation[\"converted\"]\n",
    "X_validation = df_validation.drop('converted',axis=1)"
   ]
  },
  {
   "cell_type": "code",
   "execution_count": 65,
   "metadata": {},
   "outputs": [],
   "source": [
    "# Create dummies\n",
    "class CategoricalDummies(BaseEstimator, TransformerMixin):\n",
    "    def __init__(self):\n",
    "        self.categoricaldummy_list = ['new_user','source','country']\n",
    "        # ,'SibSp','Parch','cabin_level'\n",
    "        return None\n",
    "    def fit(self,X,y=None):\n",
    "        self.categorical_dummies = OneHotEncoder(handle_unknown='ignore')\n",
    "        self.categorical_dummies.fit(X[self.categoricaldummy_list])\n",
    "        return self\n",
    "    def transform(self, X, y=None):\n",
    "        X_new = self.categorical_dummies.transform(X[self.categoricaldummy_list])\n",
    "        feature_names = self.categorical_dummies.get_feature_names(self.categoricaldummy_list)\n",
    "        X_new_dummies = pd.DataFrame.sparse.from_spmatrix(X_new, columns=feature_names, index=X.index)\n",
    "        X_new = X.drop(self.categoricaldummy_list,axis=1).join(X_new_dummies)\n",
    "        return X_new\n",
    "class CategoricalEncoder(BaseEstimator, TransformerMixin):\n",
    "    def __init__(self):\n",
    "        self.categoricaldummy_list = ['new_user','source','country']\n",
    "        return None\n",
    "    def fit(self,X,y=None):\n",
    "        self.categorical_dummies = LabelEncoder()\n",
    "        self.categorical_dummies.fit(X[self.categoricaldummy_list])\n",
    "        return self\n",
    "    def transform(self, X, y=None):\n",
    "        X_new = self.categorical_dummies.transform(X[self.categoricaldummy_list])\n",
    "        feature_names = self.categorical_dummies.get_feature_names(self.categoricaldummy_list)\n",
    "        X_new_dummies = pd.DataFrame.sparse.from_spmatrix(X_new, columns=feature_names, index=X.index)\n",
    "        X_new = X.drop(self.categoricaldummy_list,axis=1).join(X_new_dummies)\n",
    "        return X_new\n",
    "# Preprocessor pipeline setup\n",
    "preprocessor = Pipeline([('create_dummies',CategoricalDummies())])\n",
    "X_train_preprocessed = preprocessor.fit_transform(X_train)\n",
    "X_validation_preprocessed = preprocessor.transform(X_validation)\n",
    "X_fullset_preprocessed = preprocessor.transform(X_fullset)\n",
    "column_final = X_train_preprocessed.columns"
   ]
  },
  {
   "cell_type": "markdown",
   "metadata": {},
   "source": [
    "## 2.2 DecisionTree"
   ]
  },
  {
   "cell_type": "code",
   "execution_count": 13,
   "metadata": {},
   "outputs": [
    {
     "data": {
      "text/plain": [
       "DecisionTreeClassifier(ccp_alpha=0.0, class_weight=None, criterion='gini',\n",
       "                       max_depth=6, max_features=None, max_leaf_nodes=None,\n",
       "                       min_impurity_decrease=0.0, min_impurity_split=None,\n",
       "                       min_samples_leaf=1, min_samples_split=2,\n",
       "                       min_weight_fraction_leaf=0.0, presort='deprecated',\n",
       "                       random_state=None, splitter='best')"
      ]
     },
     "execution_count": 13,
     "metadata": {},
     "output_type": "execute_result"
    }
   ],
   "source": [
    "# Decision Tree\n",
    "decisiontree = DecisionTreeClassifier()\n",
    "accuracy_scorer = make_scorer(accuracy_score, greater_is_better=True)\n",
    "max_depth_list = np.arange(2,10,2).tolist()\n",
    "ccp_alpha_list = np.arange(0,1,0.1).tolist()\n",
    "grid_search_decisiontree = GridSearchCV(decisiontree,[{'max_depth':max_depth_list}],scoring=accuracy_scorer,cv=10)\n",
    "grid_search_decisiontree.fit(X_train_preprocessed, y_train)\n",
    "tuned_decisiontree = grid_search_decisiontree.best_estimator_\n",
    "tuned_decisiontree"
   ]
  },
  {
   "cell_type": "code",
   "execution_count": 14,
   "metadata": {},
   "outputs": [
    {
     "name": "stdout",
     "output_type": "stream",
     "text": [
      "DecisionTree----Training set\n",
      "0.9859383771218938\n",
      "DecisionTree----Validation set\n",
      "0.9862745098039216\n"
     ]
    }
   ],
   "source": [
    "# Model Evaluation\n",
    "print(\"DecisionTree----Training set\")\n",
    "print(accuracy_score(y_train,tuned_decisiontree.predict(X_train_preprocessed)))\n",
    "print(\"DecisionTree----Validation set\")\n",
    "print(accuracy_score(y_validation,tuned_decisiontree.predict(X_validation_preprocessed)))"
   ]
  },
  {
   "cell_type": "code",
   "execution_count": 15,
   "metadata": {},
   "outputs": [
    {
     "data": {
      "text/plain": [
       "array([[60960,   245],\n",
       "       [  623,  1412]], dtype=int64)"
      ]
     },
     "execution_count": 15,
     "metadata": {},
     "output_type": "execute_result"
    }
   ],
   "source": [
    "# Visualize decision tree\n",
    "data = export_graphviz(tuned_decisiontree,feature_names=list(X_train_preprocessed.columns),\n",
    "                       out_file=None,filled=True, rounded=True)\n",
    "graph = graphviz.Source(data)\n",
    "graph.render(r\"C:\\Users\\jwang\\Desktop\\20datasets\\OUTPUT\\1.ConversionRate\\tree.dot\",view=True) \n"
   ]
  },
  {
   "cell_type": "code",
   "execution_count": 23,
   "metadata": {},
   "outputs": [
    {
     "data": {
      "text/plain": [
       "<sklearn.metrics._plot.confusion_matrix.ConfusionMatrixDisplay at 0x2a3a4dc7e08>"
      ]
     },
     "execution_count": 23,
     "metadata": {},
     "output_type": "execute_result"
    },
    {
     "data": {
      "image/png": "[encoded data removed]",
      "text/plain": [
       "<Figure size 432x288 with 2 Axes>"
      ]
     },
     "metadata": {},
     "output_type": "display_data"
    }
   ],
   "source": [
    "plot_confusion_matrix(tuned_decisiontree, X_validation_preprocessed, y_validation, normalize='all')"
   ]
  },
  {
   "cell_type": "markdown",
   "metadata": {},
   "source": [
    "## 2.3 Random Forest"
   ]
  },
  {
   "cell_type": "code",
   "execution_count": 17,
   "metadata": {},
   "outputs": [],
   "source": [
    "# RandomForest\n",
    "randomforest = RandomForestClassifier()\n",
    "max_depth_list = np.arange(1,8,1).tolist()\n",
    "max_feature_list = np.arange(1,4,1).tolist()\n",
    "grid_search_randomforest = GridSearchCV(randomforest,\n",
    "                        [{'max_depth':max_depth_list,\n",
    "                          'max_features':max_feature_list}],scoring=accuracy_scorer,cv=10)\n",
    "grid_search_randomforest.fit(X_train_preprocessed, y_train)\n",
    "tuned_randomforest = grid_search_randomforest.best_estimator_\n"
   ]
  },
  {
   "cell_type": "code",
   "execution_count": 18,
   "metadata": {},
   "outputs": [
    {
     "name": "stdout",
     "output_type": "stream",
     "text": [
      "Random Forest----Training set\n",
      "0.9861716174226551\n",
      "Random Forest----Validation set\n",
      "0.9863219481340924\n"
     ]
    }
   ],
   "source": [
    "print(\"Random Forest----Training set\")\n",
    "print(accuracy_score(y_train,tuned_randomforest.predict(X_train_preprocessed)))\n",
    "print(\"Random Forest----Validation set\")\n",
    "print(accuracy_score(y_validation,tuned_randomforest.predict(X_validation_preprocessed)))"
   ]
  },
  {
   "cell_type": "markdown",
   "metadata": {},
   "source": [
    "## 2.4 Result Visualization"
   ]
  },
  {
   "cell_type": "code",
   "execution_count": 35,
   "metadata": {},
   "outputs": [
    {
     "data": {
      "image/png": "[encoded data removed]",
      "text/plain": [
       "<Figure size 1440x576 with 2 Axes>"
      ]
     },
     "metadata": {},
     "output_type": "display_data"
    }
   ],
   "source": [
    "def df_feature_importance(plot_tree, nopage=False):\n",
    "    feature_importance_list = plot_tree.feature_importances_\n",
    "    if nopage==True:\n",
    "        feature_names =list(X_train_preprocessed.drop('total_pages_visited',axis=1).columns)\n",
    "    else:\n",
    "        feature_names =list(X_train_preprocessed.columns)        \n",
    "    feature_importance_map = {feature_names[i]:feature_importance_list[i] for i in range(0,len(feature_importance_list))}\n",
    "    feature_importance = pd.Series(feature_importance_map)\n",
    "    feature_importance = feature_importance.sort_values(ascending=False)\n",
    "    return feature_importance\n",
    "\n",
    "fig,ax = plt.subplots(1,2,figsize=(20,8), sharey=True)\n",
    "df_feature_importance(tuned_decisiontree).plot.bar(ax=ax[0])\n",
    "df_feature_importance(tuned_randomforest).plot.bar(ax=ax[1])\n",
    "ax[0].set_title(\"Decision Tree feature importance\",fontweight=\"bold\", size=20)\n",
    "ax[1].set_title(\"Random Forest feature importance\",fontweight=\"bold\", size=20)\n",
    "for ax in fig.axes:\n",
    "    plt.sca(ax)\n",
    "    plt.xticks(rotation=45,fontsize=15)\n",
    "    plt.yticks(fontsize=15)"
   ]
  },
  {
   "cell_type": "markdown",
   "metadata": {},
   "source": [
    "### Understanding of the model\n",
    "1. total_pages_visited is the most important feature, but unfortunately also least \"actionable\". People visit the webpages because they want to buy your products.\n",
    "2. Therefore, we should test a model where total_pages_visited is excluded.\n",
    "3. Both randomforest and decisiontree agree that new user, China, and age can be three most important factors that affect conversion ratio. We will see if this is still the case without total_page_visited."
   ]
  },
  {
   "cell_type": "markdown",
   "metadata": {},
   "source": [
    "## 2.5 Rerun DecisionTree without total_pages_visited"
   ]
  },
  {
   "cell_type": "code",
   "execution_count": 31,
   "metadata": {},
   "outputs": [
    {
     "data": {
      "text/plain": [
       "DecisionTreeClassifier(ccp_alpha=0.0, class_weight=None, criterion='gini',\n",
       "                       max_depth=6, max_features=None, max_leaf_nodes=None,\n",
       "                       min_impurity_decrease=0.0, min_impurity_split=None,\n",
       "                       min_samples_leaf=1, min_samples_split=2,\n",
       "                       min_weight_fraction_leaf=0.0, presort='deprecated',\n",
       "                       random_state=None, splitter='best')"
      ]
     },
     "execution_count": 31,
     "metadata": {},
     "output_type": "execute_result"
    }
   ],
   "source": [
    "# Decision Tree\n",
    "decisiontree_nopage = DecisionTreeClassifier()\n",
    "accuracy_scorer = make_scorer(accuracy_score, greater_is_better=True)\n",
    "max_depth_list = np.arange(2,10,2).tolist()\n",
    "ccp_alpha_list = np.arange(0,1,0.1).tolist()\n",
    "grid_search_decisiontree_nopage = GridSearchCV(decisiontree_nopage,[{'max_depth':max_depth_list}],scoring=accuracy_scorer,cv=10)\n",
    "grid_search_decisiontree_nopage.fit(X_train_preprocessed.drop('total_pages_visited',axis=1), y_train)\n",
    "tuned_decisiontree_nopage = grid_search_decisiontree_nopage.best_estimator_"
   ]
  },
  {
   "cell_type": "code",
   "execution_count": 36,
   "metadata": {},
   "outputs": [
    {
     "data": {
      "text/plain": [
       "(array([0. , 0.1, 0.2, 0.3, 0.4, 0.5, 0.6, 0.7]),\n",
       " <a list of 8 Text yticklabel objects>)"
      ]
     },
     "execution_count": 36,
     "metadata": {},
     "output_type": "execute_result"
    },
    {
     "data": {
      "image/png": "[encoded data removed]",
      "text/plain": [
       "<Figure size 1440x432 with 1 Axes>"
      ]
     },
     "metadata": {},
     "output_type": "display_data"
    }
   ],
   "source": [
    "# Visualizing\n",
    "fig,ax = plt.subplots(1,1,figsize=(20,6), sharey=True)\n",
    "df_feature_importance(tuned_decisiontree_nopage,nopage=True).plot.bar()\n",
    "ax.set_title(\"Decision Tree feature importance\",fontweight=\"bold\", size=20)\n",
    "plt.xticks(rotation=45,fontsize=15)\n",
    "plt.yticks(fontsize=15)"
   ]
  },
  {
   "cell_type": "code",
   "execution_count": 58,
   "metadata": {},
   "outputs": [],
   "source": [
    "X_train_preprocessed = X_train.copy()\n",
    "for categorical_column in ['new_user','source','country']:\n",
    "    X_train_preprocessed[categorical_column] = LabelEncoder().fit_transform(X_train[categorical_column])"
   ]
  },
  {
   "cell_type": "code",
   "execution_count": 59,
   "metadata": {},
   "outputs": [
    {
     "data": {
      "text/html": [
       "<div>\n",
       "<style scoped>\n",
       "    .dataframe tbody tr th:only-of-type {\n",
       "        vertical-align: middle;\n",
       "    }\n",
       "\n",
       "    .dataframe tbody tr th {\n",
       "        vertical-align: top;\n",
       "    }\n",
       "\n",
       "    .dataframe thead th {\n",
       "        text-align: right;\n",
       "    }\n",
       "</style>\n",
       "<table border=\"1\" class=\"dataframe\">\n",
       "  <thead>\n",
       "    <tr style=\"text-align: right;\">\n",
       "      <th></th>\n",
       "      <th>country</th>\n",
       "      <th>age</th>\n",
       "      <th>new_user</th>\n",
       "      <th>source</th>\n",
       "      <th>total_pages_visited</th>\n",
       "    </tr>\n",
       "  </thead>\n",
       "  <tbody>\n",
       "    <tr>\n",
       "      <td>105624</td>\n",
       "      <td>3</td>\n",
       "      <td>29</td>\n",
       "      <td>0</td>\n",
       "      <td>2</td>\n",
       "      <td>2</td>\n",
       "    </tr>\n",
       "    <tr>\n",
       "      <td>55853</td>\n",
       "      <td>0</td>\n",
       "      <td>47</td>\n",
       "      <td>1</td>\n",
       "      <td>2</td>\n",
       "      <td>3</td>\n",
       "    </tr>\n",
       "    <tr>\n",
       "      <td>150261</td>\n",
       "      <td>3</td>\n",
       "      <td>34</td>\n",
       "      <td>0</td>\n",
       "      <td>1</td>\n",
       "      <td>3</td>\n",
       "    </tr>\n",
       "    <tr>\n",
       "      <td>226667</td>\n",
       "      <td>3</td>\n",
       "      <td>46</td>\n",
       "      <td>1</td>\n",
       "      <td>0</td>\n",
       "      <td>2</td>\n",
       "    </tr>\n",
       "    <tr>\n",
       "      <td>206696</td>\n",
       "      <td>3</td>\n",
       "      <td>48</td>\n",
       "      <td>1</td>\n",
       "      <td>2</td>\n",
       "      <td>2</td>\n",
       "    </tr>\n",
       "    <tr>\n",
       "      <td>...</td>\n",
       "      <td>...</td>\n",
       "      <td>...</td>\n",
       "      <td>...</td>\n",
       "      <td>...</td>\n",
       "      <td>...</td>\n",
       "    </tr>\n",
       "    <tr>\n",
       "      <td>119880</td>\n",
       "      <td>2</td>\n",
       "      <td>32</td>\n",
       "      <td>0</td>\n",
       "      <td>0</td>\n",
       "      <td>4</td>\n",
       "    </tr>\n",
       "    <tr>\n",
       "      <td>259179</td>\n",
       "      <td>3</td>\n",
       "      <td>29</td>\n",
       "      <td>1</td>\n",
       "      <td>2</td>\n",
       "      <td>6</td>\n",
       "    </tr>\n",
       "    <tr>\n",
       "      <td>131933</td>\n",
       "      <td>3</td>\n",
       "      <td>40</td>\n",
       "      <td>1</td>\n",
       "      <td>0</td>\n",
       "      <td>7</td>\n",
       "    </tr>\n",
       "    <tr>\n",
       "      <td>146868</td>\n",
       "      <td>2</td>\n",
       "      <td>23</td>\n",
       "      <td>0</td>\n",
       "      <td>0</td>\n",
       "      <td>1</td>\n",
       "    </tr>\n",
       "    <tr>\n",
       "      <td>121959</td>\n",
       "      <td>3</td>\n",
       "      <td>34</td>\n",
       "      <td>1</td>\n",
       "      <td>0</td>\n",
       "      <td>2</td>\n",
       "    </tr>\n",
       "  </tbody>\n",
       "</table>\n",
       "<p>252958 rows × 5 columns</p>\n",
       "</div>"
      ],
      "text/plain": [
       "        country  age  new_user  source  total_pages_visited\n",
       "105624        3   29         0       2                    2\n",
       "55853         0   47         1       2                    3\n",
       "150261        3   34         0       1                    3\n",
       "226667        3   46         1       0                    2\n",
       "206696        3   48         1       2                    2\n",
       "...         ...  ...       ...     ...                  ...\n",
       "119880        2   32         0       0                    4\n",
       "259179        3   29         1       2                    6\n",
       "131933        3   40         1       0                    7\n",
       "146868        2   23         0       0                    1\n",
       "121959        3   34         1       0                    2\n",
       "\n",
       "[252958 rows x 5 columns]"
      ]
     },
     "execution_count": 59,
     "metadata": {},
     "output_type": "execute_result"
    }
   ],
   "source": [
    "X_train_preprocessed"
   ]
  },
  {
   "cell_type": "code",
   "execution_count": null,
   "metadata": {},
   "outputs": [],
   "source": [
    "fig, ax = plt.subplots(figsize=(12, 6))\n",
    "plot_partial_dependence(tuned_decisiontree, X_train_preprocessed,y_train, feature_names='age') "
   ]
  },
  {
   "cell_type": "code",
   "execution_count": 66,
   "metadata": {},
   "outputs": [
    {
     "data": {
      "text/html": [
       "<div>\n",
       "<style scoped>\n",
       "    .dataframe tbody tr th:only-of-type {\n",
       "        vertical-align: middle;\n",
       "    }\n",
       "\n",
       "    .dataframe tbody tr th {\n",
       "        vertical-align: top;\n",
       "    }\n",
       "\n",
       "    .dataframe thead th {\n",
       "        text-align: right;\n",
       "    }\n",
       "</style>\n",
       "<table border=\"1\" class=\"dataframe\">\n",
       "  <thead>\n",
       "    <tr style=\"text-align: right;\">\n",
       "      <th></th>\n",
       "      <th>age</th>\n",
       "      <th>total_pages_visited</th>\n",
       "      <th>new_user_0</th>\n",
       "      <th>new_user_1</th>\n",
       "      <th>source_Ads</th>\n",
       "      <th>source_Direct</th>\n",
       "      <th>source_Seo</th>\n",
       "      <th>country_China</th>\n",
       "      <th>country_Germany</th>\n",
       "      <th>country_UK</th>\n",
       "      <th>country_US</th>\n",
       "    </tr>\n",
       "  </thead>\n",
       "  <tbody>\n",
       "    <tr>\n",
       "      <td>105624</td>\n",
       "      <td>29</td>\n",
       "      <td>2</td>\n",
       "      <td>1.0</td>\n",
       "      <td>0.0</td>\n",
       "      <td>0.0</td>\n",
       "      <td>0.0</td>\n",
       "      <td>1.0</td>\n",
       "      <td>0.0</td>\n",
       "      <td>0.0</td>\n",
       "      <td>0.0</td>\n",
       "      <td>1.0</td>\n",
       "    </tr>\n",
       "    <tr>\n",
       "      <td>55853</td>\n",
       "      <td>47</td>\n",
       "      <td>3</td>\n",
       "      <td>0.0</td>\n",
       "      <td>1.0</td>\n",
       "      <td>0.0</td>\n",
       "      <td>0.0</td>\n",
       "      <td>1.0</td>\n",
       "      <td>1.0</td>\n",
       "      <td>0.0</td>\n",
       "      <td>0.0</td>\n",
       "      <td>0.0</td>\n",
       "    </tr>\n",
       "    <tr>\n",
       "      <td>150261</td>\n",
       "      <td>34</td>\n",
       "      <td>3</td>\n",
       "      <td>1.0</td>\n",
       "      <td>0.0</td>\n",
       "      <td>0.0</td>\n",
       "      <td>1.0</td>\n",
       "      <td>0.0</td>\n",
       "      <td>0.0</td>\n",
       "      <td>0.0</td>\n",
       "      <td>0.0</td>\n",
       "      <td>1.0</td>\n",
       "    </tr>\n",
       "    <tr>\n",
       "      <td>226667</td>\n",
       "      <td>46</td>\n",
       "      <td>2</td>\n",
       "      <td>0.0</td>\n",
       "      <td>1.0</td>\n",
       "      <td>1.0</td>\n",
       "      <td>0.0</td>\n",
       "      <td>0.0</td>\n",
       "      <td>0.0</td>\n",
       "      <td>0.0</td>\n",
       "      <td>0.0</td>\n",
       "      <td>1.0</td>\n",
       "    </tr>\n",
       "    <tr>\n",
       "      <td>206696</td>\n",
       "      <td>48</td>\n",
       "      <td>2</td>\n",
       "      <td>0.0</td>\n",
       "      <td>1.0</td>\n",
       "      <td>0.0</td>\n",
       "      <td>0.0</td>\n",
       "      <td>1.0</td>\n",
       "      <td>0.0</td>\n",
       "      <td>0.0</td>\n",
       "      <td>0.0</td>\n",
       "      <td>1.0</td>\n",
       "    </tr>\n",
       "    <tr>\n",
       "      <td>...</td>\n",
       "      <td>...</td>\n",
       "      <td>...</td>\n",
       "      <td>...</td>\n",
       "      <td>...</td>\n",
       "      <td>...</td>\n",
       "      <td>...</td>\n",
       "      <td>...</td>\n",
       "      <td>...</td>\n",
       "      <td>...</td>\n",
       "      <td>...</td>\n",
       "      <td>...</td>\n",
       "    </tr>\n",
       "    <tr>\n",
       "      <td>119880</td>\n",
       "      <td>32</td>\n",
       "      <td>4</td>\n",
       "      <td>1.0</td>\n",
       "      <td>0.0</td>\n",
       "      <td>1.0</td>\n",
       "      <td>0.0</td>\n",
       "      <td>0.0</td>\n",
       "      <td>0.0</td>\n",
       "      <td>0.0</td>\n",
       "      <td>1.0</td>\n",
       "      <td>0.0</td>\n",
       "    </tr>\n",
       "    <tr>\n",
       "      <td>259179</td>\n",
       "      <td>29</td>\n",
       "      <td>6</td>\n",
       "      <td>0.0</td>\n",
       "      <td>1.0</td>\n",
       "      <td>0.0</td>\n",
       "      <td>0.0</td>\n",
       "      <td>1.0</td>\n",
       "      <td>0.0</td>\n",
       "      <td>0.0</td>\n",
       "      <td>0.0</td>\n",
       "      <td>1.0</td>\n",
       "    </tr>\n",
       "    <tr>\n",
       "      <td>131933</td>\n",
       "      <td>40</td>\n",
       "      <td>7</td>\n",
       "      <td>0.0</td>\n",
       "      <td>1.0</td>\n",
       "      <td>1.0</td>\n",
       "      <td>0.0</td>\n",
       "      <td>0.0</td>\n",
       "      <td>0.0</td>\n",
       "      <td>0.0</td>\n",
       "      <td>0.0</td>\n",
       "      <td>1.0</td>\n",
       "    </tr>\n",
       "    <tr>\n",
       "      <td>146868</td>\n",
       "      <td>23</td>\n",
       "      <td>1</td>\n",
       "      <td>1.0</td>\n",
       "      <td>0.0</td>\n",
       "      <td>1.0</td>\n",
       "      <td>0.0</td>\n",
       "      <td>0.0</td>\n",
       "      <td>0.0</td>\n",
       "      <td>0.0</td>\n",
       "      <td>1.0</td>\n",
       "      <td>0.0</td>\n",
       "    </tr>\n",
       "    <tr>\n",
       "      <td>121959</td>\n",
       "      <td>34</td>\n",
       "      <td>2</td>\n",
       "      <td>0.0</td>\n",
       "      <td>1.0</td>\n",
       "      <td>1.0</td>\n",
       "      <td>0.0</td>\n",
       "      <td>0.0</td>\n",
       "      <td>0.0</td>\n",
       "      <td>0.0</td>\n",
       "      <td>0.0</td>\n",
       "      <td>1.0</td>\n",
       "    </tr>\n",
       "  </tbody>\n",
       "</table>\n",
       "<p>252958 rows × 11 columns</p>\n",
       "</div>"
      ],
      "text/plain": [
       "        age  total_pages_visited  new_user_0  new_user_1  source_Ads  \\\n",
       "105624   29                    2         1.0         0.0         0.0   \n",
       "55853    47                    3         0.0         1.0         0.0   \n",
       "150261   34                    3         1.0         0.0         0.0   \n",
       "226667   46                    2         0.0         1.0         1.0   \n",
       "206696   48                    2         0.0         1.0         0.0   \n",
       "...     ...                  ...         ...         ...         ...   \n",
       "119880   32                    4         1.0         0.0         1.0   \n",
       "259179   29                    6         0.0         1.0         0.0   \n",
       "131933   40                    7         0.0         1.0         1.0   \n",
       "146868   23                    1         1.0         0.0         1.0   \n",
       "121959   34                    2         0.0         1.0         1.0   \n",
       "\n",
       "        source_Direct  source_Seo  country_China  country_Germany  country_UK  \\\n",
       "105624            0.0         1.0            0.0              0.0         0.0   \n",
       "55853             0.0         1.0            1.0              0.0         0.0   \n",
       "150261            1.0         0.0            0.0              0.0         0.0   \n",
       "226667            0.0         0.0            0.0              0.0         0.0   \n",
       "206696            0.0         1.0            0.0              0.0         0.0   \n",
       "...               ...         ...            ...              ...         ...   \n",
       "119880            0.0         0.0            0.0              0.0         1.0   \n",
       "259179            0.0         1.0            0.0              0.0         0.0   \n",
       "131933            0.0         0.0            0.0              0.0         0.0   \n",
       "146868            0.0         0.0            0.0              0.0         1.0   \n",
       "121959            0.0         0.0            0.0              0.0         0.0   \n",
       "\n",
       "        country_US  \n",
       "105624         1.0  \n",
       "55853          0.0  \n",
       "150261         1.0  \n",
       "226667         1.0  \n",
       "206696         1.0  \n",
       "...            ...  \n",
       "119880         0.0  \n",
       "259179         1.0  \n",
       "131933         1.0  \n",
       "146868         0.0  \n",
       "121959         1.0  \n",
       "\n",
       "[252958 rows x 11 columns]"
      ]
     },
     "execution_count": 66,
     "metadata": {},
     "output_type": "execute_result"
    }
   ],
   "source": [
    "X_train_preprocessed"
   ]
  },
  {
   "cell_type": "code",
   "execution_count": 61,
   "metadata": {},
   "outputs": [],
   "source": [
    "# Decision Tree\n",
    "decisiontree_nopage = DecisionTreeClassifier()\n",
    "accuracy_scorer = make_scorer(accuracy_score, greater_is_better=True)\n",
    "max_depth_list = np.arange(4,5,1).tolist()\n",
    "ccp_alpha_list = np.arange(0,1,0.1).tolist()\n",
    "grid_search_decisiontree_nopage = GridSearchCV(decisiontree_nopage,[{'max_depth':max_depth_list}],scoring=accuracy_scorer,cv=10)\n",
    "grid_search_decisiontree_nopage.fit(X_train_preprocessed.drop('total_pages_visited',axis=1), y_train)\n",
    "tuned_decisiontree_nopage = grid_search_decisiontree_nopage.best_estimator_"
   ]
  },
  {
   "cell_type": "code",
   "execution_count": 77,
   "metadata": {},
   "outputs": [
    {
     "data": {
      "text/plain": [
       "(array([[[0.03494215, 0.02312321],\n",
       "         [0.04480267, 0.03298373]]]), [array([0., 1.]), array([0., 1.])])"
      ]
     },
     "execution_count": 77,
     "metadata": {},
     "output_type": "execute_result"
    }
   ],
   "source": [
    "partial_dependence(tuned_decisiontree, X_train_preprocessed,features=['new_user_0', 'new_user_1']) "
   ]
  },
  {
   "cell_type": "code",
   "execution_count": 73,
   "metadata": {},
   "outputs": [
    {
     "data": {
      "text/html": [
       "<div>\n",
       "<style scoped>\n",
       "    .dataframe tbody tr th:only-of-type {\n",
       "        vertical-align: middle;\n",
       "    }\n",
       "\n",
       "    .dataframe tbody tr th {\n",
       "        vertical-align: top;\n",
       "    }\n",
       "\n",
       "    .dataframe thead th {\n",
       "        text-align: right;\n",
       "    }\n",
       "</style>\n",
       "<table border=\"1\" class=\"dataframe\">\n",
       "  <thead>\n",
       "    <tr style=\"text-align: right;\">\n",
       "      <th></th>\n",
       "      <th>age</th>\n",
       "      <th>total_pages_visited</th>\n",
       "      <th>new_user_0</th>\n",
       "      <th>new_user_1</th>\n",
       "      <th>source_Ads</th>\n",
       "      <th>source_Direct</th>\n",
       "      <th>source_Seo</th>\n",
       "      <th>country_China</th>\n",
       "      <th>country_Germany</th>\n",
       "      <th>country_UK</th>\n",
       "      <th>country_US</th>\n",
       "    </tr>\n",
       "  </thead>\n",
       "  <tbody>\n",
       "    <tr>\n",
       "      <td>105624</td>\n",
       "      <td>29</td>\n",
       "      <td>2</td>\n",
       "      <td>1.0</td>\n",
       "      <td>0.0</td>\n",
       "      <td>0.0</td>\n",
       "      <td>0.0</td>\n",
       "      <td>1.0</td>\n",
       "      <td>0.0</td>\n",
       "      <td>0.0</td>\n",
       "      <td>0.0</td>\n",
       "      <td>1.0</td>\n",
       "    </tr>\n",
       "    <tr>\n",
       "      <td>55853</td>\n",
       "      <td>47</td>\n",
       "      <td>3</td>\n",
       "      <td>0.0</td>\n",
       "      <td>1.0</td>\n",
       "      <td>0.0</td>\n",
       "      <td>0.0</td>\n",
       "      <td>1.0</td>\n",
       "      <td>1.0</td>\n",
       "      <td>0.0</td>\n",
       "      <td>0.0</td>\n",
       "      <td>0.0</td>\n",
       "    </tr>\n",
       "    <tr>\n",
       "      <td>150261</td>\n",
       "      <td>34</td>\n",
       "      <td>3</td>\n",
       "      <td>1.0</td>\n",
       "      <td>0.0</td>\n",
       "      <td>0.0</td>\n",
       "      <td>1.0</td>\n",
       "      <td>0.0</td>\n",
       "      <td>0.0</td>\n",
       "      <td>0.0</td>\n",
       "      <td>0.0</td>\n",
       "      <td>1.0</td>\n",
       "    </tr>\n",
       "    <tr>\n",
       "      <td>226667</td>\n",
       "      <td>46</td>\n",
       "      <td>2</td>\n",
       "      <td>0.0</td>\n",
       "      <td>1.0</td>\n",
       "      <td>1.0</td>\n",
       "      <td>0.0</td>\n",
       "      <td>0.0</td>\n",
       "      <td>0.0</td>\n",
       "      <td>0.0</td>\n",
       "      <td>0.0</td>\n",
       "      <td>1.0</td>\n",
       "    </tr>\n",
       "    <tr>\n",
       "      <td>206696</td>\n",
       "      <td>48</td>\n",
       "      <td>2</td>\n",
       "      <td>0.0</td>\n",
       "      <td>1.0</td>\n",
       "      <td>0.0</td>\n",
       "      <td>0.0</td>\n",
       "      <td>1.0</td>\n",
       "      <td>0.0</td>\n",
       "      <td>0.0</td>\n",
       "      <td>0.0</td>\n",
       "      <td>1.0</td>\n",
       "    </tr>\n",
       "    <tr>\n",
       "      <td>...</td>\n",
       "      <td>...</td>\n",
       "      <td>...</td>\n",
       "      <td>...</td>\n",
       "      <td>...</td>\n",
       "      <td>...</td>\n",
       "      <td>...</td>\n",
       "      <td>...</td>\n",
       "      <td>...</td>\n",
       "      <td>...</td>\n",
       "      <td>...</td>\n",
       "      <td>...</td>\n",
       "    </tr>\n",
       "    <tr>\n",
       "      <td>119880</td>\n",
       "      <td>32</td>\n",
       "      <td>4</td>\n",
       "      <td>1.0</td>\n",
       "      <td>0.0</td>\n",
       "      <td>1.0</td>\n",
       "      <td>0.0</td>\n",
       "      <td>0.0</td>\n",
       "      <td>0.0</td>\n",
       "      <td>0.0</td>\n",
       "      <td>1.0</td>\n",
       "      <td>0.0</td>\n",
       "    </tr>\n",
       "    <tr>\n",
       "      <td>259179</td>\n",
       "      <td>29</td>\n",
       "      <td>6</td>\n",
       "      <td>0.0</td>\n",
       "      <td>1.0</td>\n",
       "      <td>0.0</td>\n",
       "      <td>0.0</td>\n",
       "      <td>1.0</td>\n",
       "      <td>0.0</td>\n",
       "      <td>0.0</td>\n",
       "      <td>0.0</td>\n",
       "      <td>1.0</td>\n",
       "    </tr>\n",
       "    <tr>\n",
       "      <td>131933</td>\n",
       "      <td>40</td>\n",
       "      <td>7</td>\n",
       "      <td>0.0</td>\n",
       "      <td>1.0</td>\n",
       "      <td>1.0</td>\n",
       "      <td>0.0</td>\n",
       "      <td>0.0</td>\n",
       "      <td>0.0</td>\n",
       "      <td>0.0</td>\n",
       "      <td>0.0</td>\n",
       "      <td>1.0</td>\n",
       "    </tr>\n",
       "    <tr>\n",
       "      <td>146868</td>\n",
       "      <td>23</td>\n",
       "      <td>1</td>\n",
       "      <td>1.0</td>\n",
       "      <td>0.0</td>\n",
       "      <td>1.0</td>\n",
       "      <td>0.0</td>\n",
       "      <td>0.0</td>\n",
       "      <td>0.0</td>\n",
       "      <td>0.0</td>\n",
       "      <td>1.0</td>\n",
       "      <td>0.0</td>\n",
       "    </tr>\n",
       "    <tr>\n",
       "      <td>121959</td>\n",
       "      <td>34</td>\n",
       "      <td>2</td>\n",
       "      <td>0.0</td>\n",
       "      <td>1.0</td>\n",
       "      <td>1.0</td>\n",
       "      <td>0.0</td>\n",
       "      <td>0.0</td>\n",
       "      <td>0.0</td>\n",
       "      <td>0.0</td>\n",
       "      <td>0.0</td>\n",
       "      <td>1.0</td>\n",
       "    </tr>\n",
       "  </tbody>\n",
       "</table>\n",
       "<p>252958 rows × 11 columns</p>\n",
       "</div>"
      ],
      "text/plain": [
       "        age  total_pages_visited  new_user_0  new_user_1  source_Ads  \\\n",
       "105624   29                    2         1.0         0.0         0.0   \n",
       "55853    47                    3         0.0         1.0         0.0   \n",
       "150261   34                    3         1.0         0.0         0.0   \n",
       "226667   46                    2         0.0         1.0         1.0   \n",
       "206696   48                    2         0.0         1.0         0.0   \n",
       "...     ...                  ...         ...         ...         ...   \n",
       "119880   32                    4         1.0         0.0         1.0   \n",
       "259179   29                    6         0.0         1.0         0.0   \n",
       "131933   40                    7         0.0         1.0         1.0   \n",
       "146868   23                    1         1.0         0.0         1.0   \n",
       "121959   34                    2         0.0         1.0         1.0   \n",
       "\n",
       "        source_Direct  source_Seo  country_China  country_Germany  country_UK  \\\n",
       "105624            0.0         1.0            0.0              0.0         0.0   \n",
       "55853             0.0         1.0            1.0              0.0         0.0   \n",
       "150261            1.0         0.0            0.0              0.0         0.0   \n",
       "226667            0.0         0.0            0.0              0.0         0.0   \n",
       "206696            0.0         1.0            0.0              0.0         0.0   \n",
       "...               ...         ...            ...              ...         ...   \n",
       "119880            0.0         0.0            0.0              0.0         1.0   \n",
       "259179            0.0         1.0            0.0              0.0         0.0   \n",
       "131933            0.0         0.0            0.0              0.0         0.0   \n",
       "146868            0.0         0.0            0.0              0.0         1.0   \n",
       "121959            0.0         0.0            0.0              0.0         0.0   \n",
       "\n",
       "        country_US  \n",
       "105624         1.0  \n",
       "55853          0.0  \n",
       "150261         1.0  \n",
       "226667         1.0  \n",
       "206696         1.0  \n",
       "...            ...  \n",
       "119880         0.0  \n",
       "259179         1.0  \n",
       "131933         1.0  \n",
       "146868         0.0  \n",
       "121959         1.0  \n",
       "\n",
       "[252958 rows x 11 columns]"
      ]
     },
     "execution_count": 73,
     "metadata": {},
     "output_type": "execute_result"
    }
   ],
   "source": [
    "X_train_preprocessed"
   ]
  },
  {
   "cell_type": "code",
   "execution_count": null,
   "metadata": {},
   "outputs": [],
   "source": []
  }
 ],
 "metadata": {
  "kernelspec": {
   "display_name": "Python 3",
   "language": "python",
   "name": "python3"
  },
  "language_info": {
   "codemirror_mode": {
    "name": "ipython",
    "version": 3
   },
   "file_extension": ".py",
   "mimetype": "text/x-python",
   "name": "python",
   "nbconvert_exporter": "python",
   "pygments_lexer": "ipython3",
   "version": "3.7.4"
  }
 },
 "nbformat": 4,
 "nbformat_minor": 2
}
