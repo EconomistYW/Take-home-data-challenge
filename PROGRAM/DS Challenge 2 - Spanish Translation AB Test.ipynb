{
 "cells": [
  {
   "cell_type": "code",
   "execution_count": 1,
   "metadata": {},
   "outputs": [],
   "source": [
    "import os\n",
    "import re\n",
    "import zipfile\n",
    "import kaggle\n",
    "import scipy.stats\n",
    "import numpy as np\n",
    "import pandas as pd\n",
    "import seaborn as sns\n",
    "import matplotlib as mpl\n",
    "import matplotlib.pyplot as plt\n",
    "import collections\n",
    "from collections import defaultdict\n",
    "import pydotplus\n",
    "import graphviz\n",
    "%matplotlib inline\n",
    "from scipy import stats\n",
    "from sklearn.preprocessing import StandardScaler, OneHotEncoder, FunctionTransformer, KBinsDiscretizer, LabelEncoder\n",
    "from sklearn.compose import ColumnTransformer, TransformedTargetRegressor\n",
    "from sklearn.pipeline import Pipeline\n",
    "from sklearn.impute import SimpleImputer\n",
    "from sklearn.base import BaseEstimator, TransformerMixin\n",
    "from sklearn.model_selection import cross_val_score, GridSearchCV, train_test_split\n",
    "from sklearn.metrics import make_scorer, accuracy_score, classification_report,confusion_matrix, plot_confusion_matrix\n",
    "from sklearn.tree import DecisionTreeClassifier, export_graphviz\n",
    "from sklearn.ensemble import RandomForestClassifier, GradientBoostingClassifier, RandomForestClassifier\n",
    "from sklearn.inspection import plot_partial_dependence, partial_dependence\n",
    "import warnings\n",
    "warnings.simplefilter(action='ignore', category=FutureWarning)"
   ]
  },
  {
   "cell_type": "code",
   "execution_count": 2,
   "metadata": {},
   "outputs": [],
   "source": [
    "INPUT_LOCATION = r\"C:\\Users\\jwang\\Desktop\\20datasets\\INPUT\\2.SpanishABtest\"\n",
    "OUTPUT_LOCATION = r\"C:\\Users\\jwang\\Desktop\\20datasets\\OUTPUT\\2.SpanishABtest\"\n",
    "USERTABLE_LOCATION = os.path.join(INPUT_LOCATION, 'user_table.csv')\n",
    "TESTTABLE_LOCATION = os.path.join(INPUT_LOCATION, 'test_table.csv')"
   ]
  },
  {
   "cell_type": "markdown",
   "metadata": {},
   "source": [
    "# 1. Data Read-in and Exploration"
   ]
  },
  {
   "cell_type": "code",
   "execution_count": 3,
   "metadata": {},
   "outputs": [
    {
     "data": {
      "text/html": [
       "<div>\n",
       "<style scoped>\n",
       "    .dataframe tbody tr th:only-of-type {\n",
       "        vertical-align: middle;\n",
       "    }\n",
       "\n",
       "    .dataframe tbody tr th {\n",
       "        vertical-align: top;\n",
       "    }\n",
       "\n",
       "    .dataframe thead th {\n",
       "        text-align: right;\n",
       "    }\n",
       "</style>\n",
       "<table border=\"1\" class=\"dataframe\">\n",
       "  <thead>\n",
       "    <tr style=\"text-align: right;\">\n",
       "      <th></th>\n",
       "      <th>user_id</th>\n",
       "      <th>date</th>\n",
       "      <th>source</th>\n",
       "      <th>device</th>\n",
       "      <th>browser_language</th>\n",
       "      <th>ads_channel</th>\n",
       "      <th>browser</th>\n",
       "      <th>conversion</th>\n",
       "      <th>test</th>\n",
       "      <th>sex</th>\n",
       "      <th>age</th>\n",
       "      <th>country</th>\n",
       "      <th>agebin</th>\n",
       "    </tr>\n",
       "  </thead>\n",
       "  <tbody>\n",
       "    <tr>\n",
       "      <td>0</td>\n",
       "      <td>315281</td>\n",
       "      <td>2015-12-03</td>\n",
       "      <td>Direct</td>\n",
       "      <td>Web</td>\n",
       "      <td>ES</td>\n",
       "      <td>NaN</td>\n",
       "      <td>IE</td>\n",
       "      <td>1</td>\n",
       "      <td>0</td>\n",
       "      <td>M</td>\n",
       "      <td>32.0</td>\n",
       "      <td>Spain</td>\n",
       "      <td>(30.0, 33.0]</td>\n",
       "    </tr>\n",
       "    <tr>\n",
       "      <td>1</td>\n",
       "      <td>497851</td>\n",
       "      <td>2015-12-04</td>\n",
       "      <td>Ads</td>\n",
       "      <td>Web</td>\n",
       "      <td>ES</td>\n",
       "      <td>Google</td>\n",
       "      <td>IE</td>\n",
       "      <td>0</td>\n",
       "      <td>1</td>\n",
       "      <td>M</td>\n",
       "      <td>21.0</td>\n",
       "      <td>Mexico</td>\n",
       "      <td>(19.0, 21.0]</td>\n",
       "    </tr>\n",
       "    <tr>\n",
       "      <td>2</td>\n",
       "      <td>848402</td>\n",
       "      <td>2015-12-04</td>\n",
       "      <td>Ads</td>\n",
       "      <td>Web</td>\n",
       "      <td>ES</td>\n",
       "      <td>Facebook</td>\n",
       "      <td>Chrome</td>\n",
       "      <td>0</td>\n",
       "      <td>0</td>\n",
       "      <td>M</td>\n",
       "      <td>34.0</td>\n",
       "      <td>Spain</td>\n",
       "      <td>(33.0, 37.0]</td>\n",
       "    </tr>\n",
       "    <tr>\n",
       "      <td>3</td>\n",
       "      <td>290051</td>\n",
       "      <td>2015-12-03</td>\n",
       "      <td>Ads</td>\n",
       "      <td>Mobile</td>\n",
       "      <td>Other</td>\n",
       "      <td>Facebook</td>\n",
       "      <td>Android_App</td>\n",
       "      <td>0</td>\n",
       "      <td>1</td>\n",
       "      <td>F</td>\n",
       "      <td>22.0</td>\n",
       "      <td>Mexico</td>\n",
       "      <td>(21.0, 23.0]</td>\n",
       "    </tr>\n",
       "    <tr>\n",
       "      <td>4</td>\n",
       "      <td>548435</td>\n",
       "      <td>2015-11-30</td>\n",
       "      <td>Ads</td>\n",
       "      <td>Web</td>\n",
       "      <td>ES</td>\n",
       "      <td>Google</td>\n",
       "      <td>FireFox</td>\n",
       "      <td>0</td>\n",
       "      <td>1</td>\n",
       "      <td>M</td>\n",
       "      <td>19.0</td>\n",
       "      <td>Mexico</td>\n",
       "      <td>(17.999, 19.0]</td>\n",
       "    </tr>\n",
       "    <tr>\n",
       "      <td>...</td>\n",
       "      <td>...</td>\n",
       "      <td>...</td>\n",
       "      <td>...</td>\n",
       "      <td>...</td>\n",
       "      <td>...</td>\n",
       "      <td>...</td>\n",
       "      <td>...</td>\n",
       "      <td>...</td>\n",
       "      <td>...</td>\n",
       "      <td>...</td>\n",
       "      <td>...</td>\n",
       "      <td>...</td>\n",
       "      <td>...</td>\n",
       "    </tr>\n",
       "    <tr>\n",
       "      <td>453316</td>\n",
       "      <td>425010</td>\n",
       "      <td>2015-12-04</td>\n",
       "      <td>SEO</td>\n",
       "      <td>Web</td>\n",
       "      <td>ES</td>\n",
       "      <td>NaN</td>\n",
       "      <td>FireFox</td>\n",
       "      <td>0</td>\n",
       "      <td>0</td>\n",
       "      <td>M</td>\n",
       "      <td>50.0</td>\n",
       "      <td>Mexico</td>\n",
       "      <td>(37.0, 70.0]</td>\n",
       "    </tr>\n",
       "    <tr>\n",
       "      <td>453317</td>\n",
       "      <td>826793</td>\n",
       "      <td>2015-12-01</td>\n",
       "      <td>SEO</td>\n",
       "      <td>Mobile</td>\n",
       "      <td>ES</td>\n",
       "      <td>NaN</td>\n",
       "      <td>Android_App</td>\n",
       "      <td>0</td>\n",
       "      <td>1</td>\n",
       "      <td>F</td>\n",
       "      <td>20.0</td>\n",
       "      <td>Colombia</td>\n",
       "      <td>(19.0, 21.0]</td>\n",
       "    </tr>\n",
       "    <tr>\n",
       "      <td>453318</td>\n",
       "      <td>514870</td>\n",
       "      <td>2015-12-02</td>\n",
       "      <td>Ads</td>\n",
       "      <td>Mobile</td>\n",
       "      <td>ES</td>\n",
       "      <td>Bing</td>\n",
       "      <td>Android_App</td>\n",
       "      <td>0</td>\n",
       "      <td>0</td>\n",
       "      <td>M</td>\n",
       "      <td>25.0</td>\n",
       "      <td>Spain</td>\n",
       "      <td>(24.0, 26.0]</td>\n",
       "    </tr>\n",
       "    <tr>\n",
       "      <td>453319</td>\n",
       "      <td>785224</td>\n",
       "      <td>2015-12-04</td>\n",
       "      <td>SEO</td>\n",
       "      <td>Mobile</td>\n",
       "      <td>ES</td>\n",
       "      <td>NaN</td>\n",
       "      <td>Android_App</td>\n",
       "      <td>0</td>\n",
       "      <td>1</td>\n",
       "      <td>M</td>\n",
       "      <td>21.0</td>\n",
       "      <td>Colombia</td>\n",
       "      <td>(19.0, 21.0]</td>\n",
       "    </tr>\n",
       "    <tr>\n",
       "      <td>453320</td>\n",
       "      <td>241662</td>\n",
       "      <td>2015-12-04</td>\n",
       "      <td>Ads</td>\n",
       "      <td>Web</td>\n",
       "      <td>ES</td>\n",
       "      <td>Facebook</td>\n",
       "      <td>Chrome</td>\n",
       "      <td>0</td>\n",
       "      <td>1</td>\n",
       "      <td>M</td>\n",
       "      <td>27.0</td>\n",
       "      <td>Mexico</td>\n",
       "      <td>(26.0, 28.0]</td>\n",
       "    </tr>\n",
       "  </tbody>\n",
       "</table>\n",
       "<p>453321 rows × 13 columns</p>\n",
       "</div>"
      ],
      "text/plain": [
       "        user_id        date  source  device browser_language ads_channel  \\\n",
       "0        315281  2015-12-03  Direct     Web               ES         NaN   \n",
       "1        497851  2015-12-04     Ads     Web               ES      Google   \n",
       "2        848402  2015-12-04     Ads     Web               ES    Facebook   \n",
       "3        290051  2015-12-03     Ads  Mobile            Other    Facebook   \n",
       "4        548435  2015-11-30     Ads     Web               ES      Google   \n",
       "...         ...         ...     ...     ...              ...         ...   \n",
       "453316   425010  2015-12-04     SEO     Web               ES         NaN   \n",
       "453317   826793  2015-12-01     SEO  Mobile               ES         NaN   \n",
       "453318   514870  2015-12-02     Ads  Mobile               ES        Bing   \n",
       "453319   785224  2015-12-04     SEO  Mobile               ES         NaN   \n",
       "453320   241662  2015-12-04     Ads     Web               ES    Facebook   \n",
       "\n",
       "            browser  conversion  test sex   age   country          agebin  \n",
       "0                IE           1     0   M  32.0     Spain    (30.0, 33.0]  \n",
       "1                IE           0     1   M  21.0    Mexico    (19.0, 21.0]  \n",
       "2            Chrome           0     0   M  34.0     Spain    (33.0, 37.0]  \n",
       "3       Android_App           0     1   F  22.0    Mexico    (21.0, 23.0]  \n",
       "4           FireFox           0     1   M  19.0    Mexico  (17.999, 19.0]  \n",
       "...             ...         ...   ...  ..   ...       ...             ...  \n",
       "453316      FireFox           0     0   M  50.0    Mexico    (37.0, 70.0]  \n",
       "453317  Android_App           0     1   F  20.0  Colombia    (19.0, 21.0]  \n",
       "453318  Android_App           0     0   M  25.0     Spain    (24.0, 26.0]  \n",
       "453319  Android_App           0     1   M  21.0  Colombia    (19.0, 21.0]  \n",
       "453320       Chrome           0     1   M  27.0    Mexico    (26.0, 28.0]  \n",
       "\n",
       "[453321 rows x 13 columns]"
      ]
     },
     "execution_count": 3,
     "metadata": {},
     "output_type": "execute_result"
    }
   ],
   "source": [
    "df_usertable = pd.read_csv(USERTABLE_LOCATION)\n",
    "df_testtable = pd.read_csv(TESTTABLE_LOCATION)\n",
    "df = df_testtable.merge(df_usertable,on=\"user_id\",how=\"left\")\n",
    "df.loc[df['country'].isnull(),'country']=\"N/A\"\n",
    "df['agebin'] = pd.qcut(df['age'], 10)\n",
    "exploration_df = df.copy()\n",
    "exploration_df"
   ]
  },
  {
   "cell_type": "code",
   "execution_count": 4,
   "metadata": {},
   "outputs": [
    {
     "name": "stdout",
     "output_type": "stream",
     "text": [
      "----------------------------------------source---------------------------------------- - "
     ]
    },
    {
     "data": {
      "text/plain": [
       "Ads       181877\n",
       "SEO       180610\n",
       "Direct     90834\n",
       "Name: source, dtype: int64"
      ]
     },
     "metadata": {},
     "output_type": "display_data"
    },
    {
     "name": "stdout",
     "output_type": "stream",
     "text": [
      "----------------------------------------device---------------------------------------- - "
     ]
    },
    {
     "data": {
      "text/plain": [
       "Web       251565\n",
       "Mobile    201756\n",
       "Name: device, dtype: int64"
      ]
     },
     "metadata": {},
     "output_type": "display_data"
    },
    {
     "name": "stdout",
     "output_type": "stream",
     "text": [
      "----------------------------------------browser_language---------------------------------------- - "
     ]
    },
    {
     "data": {
      "text/plain": [
       "ES       377547\n",
       "EN        63137\n",
       "Other     12637\n",
       "Name: browser_language, dtype: int64"
      ]
     },
     "metadata": {},
     "output_type": "display_data"
    },
    {
     "name": "stdout",
     "output_type": "stream",
     "text": [
      "----------------------------------------ads_channel---------------------------------------- - "
     ]
    },
    {
     "data": {
      "text/plain": [
       "Facebook    68425\n",
       "Google      68180\n",
       "Yahoo       27435\n",
       "Bing        13689\n",
       "Other        4148\n",
       "Name: ads_channel, dtype: int64"
      ]
     },
     "metadata": {},
     "output_type": "display_data"
    },
    {
     "name": "stdout",
     "output_type": "stream",
     "text": [
      "----------------------------------------browser---------------------------------------- - "
     ]
    },
    {
     "data": {
      "text/plain": [
       "Android_App    155135\n",
       "Chrome         101929\n",
       "IE              61715\n",
       "Iphone_App      46621\n",
       "Safari          41065\n",
       "FireFox         40766\n",
       "Opera            6090\n",
       "Name: browser, dtype: int64"
      ]
     },
     "metadata": {},
     "output_type": "display_data"
    },
    {
     "name": "stdout",
     "output_type": "stream",
     "text": [
      "----------------------------------------sex---------------------------------------- - "
     ]
    },
    {
     "data": {
      "text/plain": [
       "M    264485\n",
       "F    188382\n",
       "Name: sex, dtype: int64"
      ]
     },
     "metadata": {},
     "output_type": "display_data"
    },
    {
     "name": "stdout",
     "output_type": "stream",
     "text": [
      "----------------------------------------country---------------------------------------- - "
     ]
    },
    {
     "data": {
      "text/plain": [
       "Mexico       128484\n",
       "Colombia      54060\n",
       "Spain         51782\n",
       "Argentina     46733\n",
       "Peru          33666\n",
       "Venezuela     32054\n",
       "Chile         19737\n",
       "Ecuador       15895\n",
       "Guatemala     15125\n",
       "Bolivia       11124\n",
       "Name: country, dtype: int64"
      ]
     },
     "metadata": {},
     "output_type": "display_data"
    }
   ],
   "source": [
    "for col in ['source','device','browser_language','ads_channel','browser','sex','country']:\n",
    "    print('-' * 40 + col + '-' * 40 , end=' - ')\n",
    "    display(exploration_df[col].value_counts().head(10))"
   ]
  },
  {
   "cell_type": "code",
   "execution_count": 5,
   "metadata": {},
   "outputs": [
    {
     "data": {
      "text/html": [
       "<div>\n",
       "<style scoped>\n",
       "    .dataframe tbody tr th:only-of-type {\n",
       "        vertical-align: middle;\n",
       "    }\n",
       "\n",
       "    .dataframe tbody tr th {\n",
       "        vertical-align: top;\n",
       "    }\n",
       "\n",
       "    .dataframe thead th {\n",
       "        text-align: right;\n",
       "    }\n",
       "</style>\n",
       "<table border=\"1\" class=\"dataframe\">\n",
       "  <thead>\n",
       "    <tr style=\"text-align: right;\">\n",
       "      <th></th>\n",
       "      <th>user_id</th>\n",
       "      <th>conversion</th>\n",
       "      <th>test</th>\n",
       "      <th>age</th>\n",
       "    </tr>\n",
       "  </thead>\n",
       "  <tbody>\n",
       "    <tr>\n",
       "      <td>count</td>\n",
       "      <td>453321.000000</td>\n",
       "      <td>453321.000000</td>\n",
       "      <td>453321.000000</td>\n",
       "      <td>452867.000000</td>\n",
       "    </tr>\n",
       "    <tr>\n",
       "      <td>mean</td>\n",
       "      <td>499937.514728</td>\n",
       "      <td>0.049579</td>\n",
       "      <td>0.476446</td>\n",
       "      <td>27.130740</td>\n",
       "    </tr>\n",
       "    <tr>\n",
       "      <td>std</td>\n",
       "      <td>288665.193436</td>\n",
       "      <td>0.217073</td>\n",
       "      <td>0.499445</td>\n",
       "      <td>6.776678</td>\n",
       "    </tr>\n",
       "    <tr>\n",
       "      <td>min</td>\n",
       "      <td>1.000000</td>\n",
       "      <td>0.000000</td>\n",
       "      <td>0.000000</td>\n",
       "      <td>18.000000</td>\n",
       "    </tr>\n",
       "    <tr>\n",
       "      <td>25%</td>\n",
       "      <td>249816.000000</td>\n",
       "      <td>0.000000</td>\n",
       "      <td>0.000000</td>\n",
       "      <td>22.000000</td>\n",
       "    </tr>\n",
       "    <tr>\n",
       "      <td>50%</td>\n",
       "      <td>500019.000000</td>\n",
       "      <td>0.000000</td>\n",
       "      <td>0.000000</td>\n",
       "      <td>26.000000</td>\n",
       "    </tr>\n",
       "    <tr>\n",
       "      <td>75%</td>\n",
       "      <td>749522.000000</td>\n",
       "      <td>0.000000</td>\n",
       "      <td>1.000000</td>\n",
       "      <td>31.000000</td>\n",
       "    </tr>\n",
       "    <tr>\n",
       "      <td>max</td>\n",
       "      <td>1000000.000000</td>\n",
       "      <td>1.000000</td>\n",
       "      <td>1.000000</td>\n",
       "      <td>70.000000</td>\n",
       "    </tr>\n",
       "  </tbody>\n",
       "</table>\n",
       "</div>"
      ],
      "text/plain": [
       "              user_id     conversion           test            age\n",
       "count   453321.000000  453321.000000  453321.000000  452867.000000\n",
       "mean    499937.514728       0.049579       0.476446      27.130740\n",
       "std     288665.193436       0.217073       0.499445       6.776678\n",
       "min          1.000000       0.000000       0.000000      18.000000\n",
       "25%     249816.000000       0.000000       0.000000      22.000000\n",
       "50%     500019.000000       0.000000       0.000000      26.000000\n",
       "75%     749522.000000       0.000000       1.000000      31.000000\n",
       "max    1000000.000000       1.000000       1.000000      70.000000"
      ]
     },
     "execution_count": 5,
     "metadata": {},
     "output_type": "execute_result"
    }
   ],
   "source": [
    "exploration_df.describe()"
   ]
  },
  {
   "cell_type": "markdown",
   "metadata": {},
   "source": [
    "## 1.1 Visualize the conversion ratio by experiment/control & Spain/non-Spain"
   ]
  },
  {
   "cell_type": "code",
   "execution_count": 6,
   "metadata": {},
   "outputs": [
    {
     "data": {
      "text/plain": [
       "<matplotlib.axes._subplots.AxesSubplot at 0x1f6dc3c2908>"
      ]
     },
     "execution_count": 6,
     "metadata": {},
     "output_type": "execute_result"
    },
    {
     "data": {
      "image/png": "[encoded data removed]",
      "text/plain": [
       "<Figure size 432x288 with 1 Axes>"
      ]
     },
     "metadata": {
      "needs_background": "light"
     },
     "output_type": "display_data"
    }
   ],
   "source": [
    "exploration_df['Spain'] = 1\n",
    "exploration_df.loc[exploration_df['country']!='Spain','Spain']=0\n",
    "sns.barplot(x='Spain',y=\"conversion\",hue='test',data=exploration_df)"
   ]
  },
  {
   "cell_type": "markdown",
   "metadata": {},
   "source": [
    "## 1.2 Sample t test on conversion ratio difference by experiment/control group"
   ]
  },
  {
   "cell_type": "code",
   "execution_count": 7,
   "metadata": {},
   "outputs": [
    {
     "name": "stdout",
     "output_type": "stream",
     "text": [
      "Group                          Conversion Rate               \n",
      "------------------------------------------------------------\n",
      "Experiment                     0.04342                       \n",
      "Control                        0.04833                       \n",
      "                                                            \n",
      "Significantly different (1%)   P-Value                       \n",
      "------------------------------------------------------------\n",
      "Yes                            0.0000000000                  \n"
     ]
    }
   ],
   "source": [
    "experiment_conversion = exploration_df.loc[(exploration_df['Spain']==0)&(exploration_df['test']==1),'conversion']\n",
    "control_conversion = exploration_df.loc[(exploration_df['Spain']==0)&(exploration_df['test']==0),'conversion']\n",
    "experiment_conversion_ratio = experiment_conversion.sum()/experiment_conversion.count()\n",
    "control_conversion_ratio = control_conversion.sum()/control_conversion.count()\n",
    "ttest_result = scipy.stats.ttest_ind(experiment_conversion,control_conversion)\n",
    "p_val = ttest_result[1]\n",
    "if p_val > 0.01:\n",
    "    significant_diff = 'No'\n",
    "else:\n",
    "    significant_diff = 'Yes'\n",
    "print('{0:<30s} {1:<30s}'.format('Group', 'Conversion Rate'))\n",
    "print('-'*60)\n",
    "print('{0:<30s} {1:<30.5f}'.format('Experiment', experiment_conversion_ratio))\n",
    "print('{0:<30s} {1:<30.5f}'.format('Control', control_conversion_ratio))\n",
    "print(' '*60)    \n",
    "print('{0:<30s} {1:<30s}'.format('Significantly different (1%)', 'P-Value'))\n",
    "print('-'*60)\n",
    "print('{0:<30s} {1:<30.10f}'.format(significant_diff, p_val))"
   ]
  },
  {
   "cell_type": "markdown",
   "metadata": {},
   "source": [
    "## 1.3 Conversion rate by each variable"
   ]
  },
  {
   "cell_type": "code",
   "execution_count": 8,
   "metadata": {},
   "outputs": [
    {
     "data": {
      "image/png": "[encoded data removed]",
      "text/plain": [
       "<Figure size 1440x1080 with 8 Axes>"
      ]
     },
     "metadata": {},
     "output_type": "display_data"
    }
   ],
   "source": [
    "# Barplot with continuos variables into bins\n",
    "sns.set()\n",
    "fig,ax = plt.subplots(4,2, figsize=(20,15), sharey=True)\n",
    "discrete_variables = ['date','source', 'device', 'browser_language','ads_channel', 'browser', 'sex','agebin']\n",
    "for column in range(2):\n",
    "    for row in range(4):\n",
    "        index = column + row*2\n",
    "        var = discrete_variables[index]\n",
    "        sns.barplot(x=var,y= \"conversion\",hue=\"test\", data=exploration_df[exploration_df['Spain']==0], ax=ax[row,column])"
   ]
  },
  {
   "cell_type": "markdown",
   "metadata": {},
   "source": [
    "# 2. Explore negative results"
   ]
  },
  {
   "cell_type": "markdown",
   "metadata": {},
   "source": [
    "## 2.1 Hypothesis test on random assigned experiment and control (in general)"
   ]
  },
  {
   "cell_type": "code",
   "execution_count": 9,
   "metadata": {},
   "outputs": [
    {
     "name": "stdout",
     "output_type": "stream",
     "text": [
      "Experiment group consists of 53.8% of non-Spain countries.\n",
      "\n",
      "Randomly Assigned? (1% level)  P-Value                       \n",
      "------------------------------------------------------------\n",
      "False                          0.0000000000                  \n"
     ]
    }
   ],
   "source": [
    "total_count = exploration_df.loc[exploration_df['Spain']==0,'test'].count()\n",
    "experiment_count = exploration_df.loc[(exploration_df['Spain']==0)&(exploration_df['test']==1),'test'].count()\n",
    "experiment_percent = experiment_count / total_count\n",
    "sample_sd = np.sqrt(0.5*0.5/total_count)\n",
    "p_val_random = 2*(1-scipy.stats.norm(0.5,sample_sd).cdf(experiment_percent))\n",
    "if p_val > 0.01:\n",
    "    pass_ttest = 'True'\n",
    "else:\n",
    "    pass_ttest = 'False'\n",
    "print('Experiment group consists of {:.1%} of non-Spain countries.'.format(experiment_percent))\n",
    "print('')\n",
    "print('{0:<30s} {1:<30s}'.format('Randomly Assigned? (1% level)', 'P-Value'))\n",
    "print('-'*60)\n",
    "print('{0:<30s} {1:<30.10f}'.format(pass_ttest, p_val_random))"
   ]
  },
  {
   "cell_type": "markdown",
   "metadata": {},
   "source": [
    "## 2.2 Observe that some countries have positive effect in experiment group"
   ]
  },
  {
   "cell_type": "code",
   "execution_count": 10,
   "metadata": {},
   "outputs": [
    {
     "data": {
      "text/plain": [
       "<matplotlib.axes._subplots.AxesSubplot at 0x1f6df3ebd08>"
      ]
     },
     "execution_count": 10,
     "metadata": {},
     "output_type": "execute_result"
    },
    {
     "data": {
      "image/png": "[encoded data removed]",
      "text/plain": [
       "<Figure size 1440x576 with 1 Axes>"
      ]
     },
     "metadata": {},
     "output_type": "display_data"
    }
   ],
   "source": [
    "plt.subplots(figsize=(20,8))\n",
    "sns.barplot(x='country',y=\"conversion\",hue=\"test\", data=exploration_df)"
   ]
  },
  {
   "cell_type": "markdown",
   "metadata": {},
   "source": [
    "## 2.3 Hypothesis test on random assigned experiment and control (by country)"
   ]
  },
  {
   "cell_type": "code",
   "execution_count": 11,
   "metadata": {},
   "outputs": [
    {
     "data": {
      "text/plain": [
       "<matplotlib.axes._subplots.AxesSubplot at 0x1f6df50c208>"
      ]
     },
     "execution_count": 11,
     "metadata": {},
     "output_type": "execute_result"
    },
    {
     "data": {
      "image/png": "[encoded data removed]",
      "text/plain": [
       "<Figure size 1440x576 with 1 Axes>"
      ]
     },
     "metadata": {},
     "output_type": "display_data"
    }
   ],
   "source": [
    "plt.subplots(figsize=(20,8))\n",
    "sns.countplot(x='country',hue=\"test\", data=exploration_df)"
   ]
  },
  {
   "cell_type": "code",
   "execution_count": 12,
   "metadata": {},
   "outputs": [
    {
     "name": "stdout",
     "output_type": "stream",
     "text": [
      "Country        Random (5% level)   P-Value        Positive Effect     Significantly different (5%)  P-Value             \n",
      "------------------------------------------------------------------------------------------------------------------------\n",
      "Mexico         Yes                 0.85391        Yes                 No                            0.16555             \n",
      "Venezuela      Yes                 0.17293        No                  No                            0.57374             \n",
      "Bolivia        Yes                 0.81999        No                  No                            0.71888             \n",
      "Colombia       Yes                 0.61784        No                  No                            0.42373             \n",
      "Uruguay        No                  0.00000        Yes                 No                            0.88281             \n",
      "El Salvador    Yes                 0.65022        No                  No                            0.24825             \n",
      "Nicaragua      Yes                 0.16075        Yes                 No                            0.78035             \n",
      "Peru           Yes                 0.69476        Yes                 No                            0.77195             \n",
      "Costa Rica     Yes                 0.88000        Yes                 No                            0.68786             \n",
      "Chile          Yes                 0.82536        Yes                 No                            0.30287             \n",
      "Argentina      No                  0.00000        No                  No                            0.32177             \n",
      "Ecuador        Yes                 0.16034        No                  No                            0.96151             \n",
      "Guatemala      Yes                 0.33324        No                  No                            0.57216             \n",
      "Honduras       Yes                 0.09617        No                  No                            0.47172             \n",
      "Paraguay       Yes                 0.58346        Yes                 No                            0.88370             \n",
      "Panama         Yes                 0.76244        Yes                 No                            0.70536             \n",
      "N/A            Yes                 0.09111        No                  No                            0.39768             \n"
     ]
    }
   ],
   "source": [
    "def test_random_by_var(varlist):\n",
    "    '''\n",
    "    Test the randomness of experiment-control split by variable excluding Spain.\n",
    "    '''\n",
    "    df_nonspain = exploration_df[exploration_df['Spain']==0]\n",
    "    for var in varlist:\n",
    "        print('{0:<15s}{1:<20s}{2:<15s}{3:<20s}{4:<30s}{5:<20s}'.format('Country', \n",
    "                                                           'Random (5% level)', 'P-Value',\n",
    "                                                           'Positive Effect', 'Significantly different (5%)', 'P-Value' ))\n",
    "        print('-' * 120)\n",
    "        unique_value_list = df_nonspain[var].unique()\n",
    "        random_test_df = pd.DataFrame()\n",
    "        for value in unique_value_list:\n",
    "            # Random assignment test\n",
    "            total_count = df_nonspain.loc[df_nonspain[var]==value,'test'].count()\n",
    "            experiment_count = df_nonspain.loc[(df_nonspain[var]==value)&(df_nonspain['test']==1),'test'].count()\n",
    "            experiment_prob = experiment_count / total_count\n",
    "            sample_sd = np.sqrt(0.5*0.5/total_count)\n",
    "            if experiment_prob > 0.5:\n",
    "                p_val = 2*(1-scipy.stats.norm(0.5,sample_sd).cdf(experiment_prob))\n",
    "            else:\n",
    "                p_val = 2*(1-scipy.stats.norm(0.5,sample_sd).cdf(1-experiment_prob))\n",
    "            if p_val < 0.05:\n",
    "                result = \"No\"\n",
    "            else:\n",
    "                result=\"Yes\"\n",
    "            # Conversion rate difference test\n",
    "            experiment_conversion = df_nonspain.loc[(df_nonspain[var]==value)&(df_nonspain['test']==1),'conversion']\n",
    "            control_conversion = df_nonspain.loc[(df_nonspain[var]==value)&(df_nonspain['test']==0),'conversion']\n",
    "            experiment_conversion_ratio = experiment_conversion.sum()/experiment_conversion.count()\n",
    "            control_conversion_ratio = control_conversion.sum()/control_conversion.count()\n",
    "            ttest_result = scipy.stats.ttest_ind(experiment_conversion,control_conversion)\n",
    "            p_val_ttest = ttest_result[1]\n",
    "            if experiment_conversion_ratio > control_conversion_ratio:\n",
    "                positive_effect = 'Yes'\n",
    "            else:\n",
    "                positive_effect = 'No'\n",
    "            if p_val_ttest > 0.01:\n",
    "                significant_diff = 'No'\n",
    "            else:\n",
    "                significant_diff = 'Yes'\n",
    "            print('{0:<15s}{1:<20s}{2:<15.5f}{3:<20s}{4:<30s}{5:<20.5f}'.format(value,\n",
    "                                                                                  result,p_val,\n",
    "                                                                                  positive_effect,significant_diff,p_val_ttest))\n",
    "                \n",
    "test_random_by_var(['country'])"
   ]
  },
  {
   "cell_type": "markdown",
   "metadata": {},
   "source": [
    "# 3. Conclusion\n",
    "1. The result suggest that the experiment is negative in general, but positive for some countries.\n",
    "2. The experiment is not set up correctly because the experiment and control groups are not assigned randomly for Uruguay and Argentina. \n"
   ]
  }
 ],
 "metadata": {
  "kernelspec": {
   "display_name": "Python 3",
   "language": "python",
   "name": "python3"
  },
  "language_info": {
   "codemirror_mode": {
    "name": "ipython",
    "version": 3
   },
   "file_extension": ".py",
   "mimetype": "text/x-python",
   "name": "python",
   "nbconvert_exporter": "python",
   "pygments_lexer": "ipython3",
   "version": "3.7.4"
  }
 },
 "nbformat": 4,
 "nbformat_minor": 2
}
